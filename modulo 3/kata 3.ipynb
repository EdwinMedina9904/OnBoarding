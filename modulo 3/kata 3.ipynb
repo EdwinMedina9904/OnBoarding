{
 "cells": [
  {
   "cell_type": "code",
   "execution_count": 16,
   "metadata": {},
   "outputs": [
    {
     "name": "stdout",
     "output_type": "stream",
     "text": [
      "¡Peligro! ¡Un asteroide se acerca a gran velocidad!\n"
     ]
    }
   ],
   "source": [
    "asteroide =49\n",
    "if asteroide>25:\n",
    " print('¡Peligro! ¡Un asteroide se acerca a gran velocidad!')\n",
    "else:\n",
    " print('Todo bien, continua con tus actividades')"
   ]
  },
  {
   "cell_type": "code",
   "execution_count": 17,
   "metadata": {},
   "outputs": [
    {
     "name": "stdout",
     "output_type": "stream",
     "text": [
      "Todo bien en el cielo\n"
     ]
    }
   ],
   "source": [
    "asteroide = 19\n",
    "if asteroide>=20:\n",
    "    print('¡Mira! ¡Hay un rayo de luz en el cielo!')\n",
    "else:\n",
    "    print('Todo bien en el cielo')"
   ]
  },
  {
   "cell_type": "code",
   "execution_count": 18,
   "metadata": {},
   "outputs": [
    {
     "name": "stdout",
     "output_type": "stream",
     "text": [
      "¡Peligro un asteroide se aproxima a la tierra!\n"
     ]
    }
   ],
   "source": [
    "VAsteroide=26\n",
    "TAsteroide=25\n",
    "if (VAsteroide>25 and TAsteroide>=25 ):\n",
    " print('¡Peligro un asteroide se aproxima a la tierra!')\n",
    "elif VAsteroide >=20:\n",
    " print('¡Mira! ¡Hay un rayo de luz en el cielo!')\n",
    "else:\n",
    " print('Todo bien, continua con tus actividades')"
   ]
  }
 ],
 "metadata": {
  "interpreter": {
   "hash": "b3f7bf394311b7fa6ea87f665e8bb72d7b488c317090ca846cb97eec17283667"
  },
  "kernelspec": {
   "display_name": "Python 3.10.2 64-bit",
   "language": "python",
   "name": "python3"
  },
  "language_info": {
   "codemirror_mode": {
    "name": "ipython",
    "version": 3
   },
   "file_extension": ".py",
   "mimetype": "text/x-python",
   "name": "python",
   "nbconvert_exporter": "python",
   "pygments_lexer": "ipython3",
   "version": "3.10.2"
  },
  "orig_nbformat": 4
 },
 "nbformat": 4,
 "nbformat_minor": 2
}
