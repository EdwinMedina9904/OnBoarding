{
 "cells": [
  {
   "cell_type": "markdown",
   "metadata": {},
   "source": [
    "# Ejercicio 1"
   ]
  },
  {
   "cell_type": "code",
   "execution_count": 83,
   "metadata": {},
   "outputs": [],
   "source": [
    "planets={\n",
    "    'name': 'Tierra',\n",
    "    'moons': 1\n",
    "}"
   ]
  },
  {
   "cell_type": "code",
   "execution_count": 84,
   "metadata": {},
   "outputs": [
    {
     "name": "stdout",
     "output_type": "stream",
     "text": [
      "El planeta Tierra tiene 1 lunas\n"
     ]
    }
   ],
   "source": [
    "print(f'El planeta {planets[\"name\"]} tiene {planets[\"moons\"]} lunas')"
   ]
  },
  {
   "cell_type": "code",
   "execution_count": 85,
   "metadata": {},
   "outputs": [],
   "source": [
    "planets['circunferencia en Km']={\n",
    "    'polar' :6752,\n",
    "    'ecuatorial' :6792\n",
    "}"
   ]
  },
  {
   "cell_type": "code",
   "execution_count": 86,
   "metadata": {},
   "outputs": [
    {
     "name": "stdout",
     "output_type": "stream",
     "text": [
      "El planeta Tierra tiene una circunferencia polar de 6752 Km\n"
     ]
    }
   ],
   "source": [
    "print(f'El planeta {planets[\"name\"]} tiene una circunferencia polar de {planets[\"circunferencia en Km\"][\"polar\"]} Km')"
   ]
  },
  {
   "cell_type": "markdown",
   "metadata": {},
   "source": [
    "# Ejercicio 2 "
   ]
  },
  {
   "cell_type": "code",
   "execution_count": 87,
   "metadata": {},
   "outputs": [],
   "source": [
    "planet_moons = {\n",
    "    'mercury': 0,\n",
    "    'venus': 0,\n",
    "    'earth': 1,\n",
    "    'mars': 2,\n",
    "    'jupiter': 79,\n",
    "    'saturn': 82,\n",
    "    'uranus': 27,\n",
    "    'neptune': 14,\n",
    "    'pluto': 5,\n",
    "    'haumea': 2,\n",
    "    'makemake': 1,\n",
    "    'eris': 1\n",
    "}"
   ]
  },
  {
   "cell_type": "code",
   "execution_count": 88,
   "metadata": {},
   "outputs": [],
   "source": [
    "moons=planet_moons.values()\n",
    "planetas=len(planet_moons.keys())\n"
   ]
  },
  {
   "cell_type": "code",
   "execution_count": 89,
   "metadata": {},
   "outputs": [
    {
     "name": "stdout",
     "output_type": "stream",
     "text": [
      "\n",
      "El total de lunas es: 214\n",
      "El total de planetas es: 12\n",
      "El promedio es: 17.833333333333332\n"
     ]
    }
   ],
   "source": [
    "total_moons=0\n",
    "for moon in moons:\n",
    "    total_moons= total_moons + moon\n",
    "promedio = total_moons / planetas\n",
    "print(f\"\"\"\n",
    "El total de lunas es: {total_moons}\n",
    "El total de planetas es: {planetas}\n",
    "El promedio es: {promedio}\"\"\")\n"
   ]
  }
 ],
 "metadata": {
  "interpreter": {
   "hash": "b3f7bf394311b7fa6ea87f665e8bb72d7b488c317090ca846cb97eec17283667"
  },
  "kernelspec": {
   "display_name": "Python 3.10.2 64-bit",
   "language": "python",
   "name": "python3"
  },
  "language_info": {
   "codemirror_mode": {
    "name": "ipython",
    "version": 3
   },
   "file_extension": ".py",
   "mimetype": "text/x-python",
   "name": "python",
   "nbconvert_exporter": "python",
   "pygments_lexer": "ipython3",
   "version": "3.10.2"
  },
  "orig_nbformat": 4
 },
 "nbformat": 4,
 "nbformat_minor": 2
}
