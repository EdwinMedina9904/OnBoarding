{
 "cells": [
  {
   "cell_type": "markdown",
   "metadata": {},
   "source": [
    "# Ejercicio 1"
   ]
  },
  {
   "cell_type": "code",
   "execution_count": 92,
   "metadata": {},
   "outputs": [],
   "source": [
    "def informe(tanque1, tanque2, tanque3 ):\n",
    "    return f\"\"\" informe de combustible\n",
    "    combustible del tanque 1: {tanque1}\n",
    "    combustible del tanque 2: {tanque2}\n",
    "    combustible del tanque 3: {tanque3}\n",
    "    \"\"\""
   ]
  },
  {
   "cell_type": "code",
   "execution_count": 93,
   "metadata": {},
   "outputs": [
    {
     "name": "stdout",
     "output_type": "stream",
     "text": [
      " informe de combustible\n",
      "    combustible del tanque 1: 10\n",
      "    combustible del tanque 2: 50\n",
      "    combustible del tanque 3: 90\n",
      "    \n"
     ]
    }
   ],
   "source": [
    "print(informe(10, 50, 90))"
   ]
  },
  {
   "cell_type": "code",
   "execution_count": 99,
   "metadata": {},
   "outputs": [
    {
     "name": "stdout",
     "output_type": "stream",
     "text": [
      "El promedio de combustible es: 2.0 \n"
     ]
    }
   ],
   "source": [
    "def promedio(*valores):\n",
    "    suma= sum(valores)\n",
    "    total_val=len(valores)\n",
    "    return f\"\"\"El promedio de combustible es: {suma/total_val} \"\"\"\n",
    "     \n",
    "print(promedio(1, 2, 1, 4))"
   ]
  },
  {
   "cell_type": "code",
   "execution_count": 95,
   "metadata": {},
   "outputs": [
    {
     "name": "stdout",
     "output_type": "stream",
     "text": [
      " informe de combustible\n",
      "    combustible del tanque 1: 80\n",
      "    combustible del tanque 2: 10\n",
      "    combustible del tanque 3: 30\n",
      "    El promedio de combustible es: 40.0 \n",
      "    \n"
     ]
    }
   ],
   "source": [
    "def informe(tanque1, tanque2, tanque3 ):\n",
    "    return f\"\"\" informe de combustible\n",
    "    combustible del tanque 1: {tanque1}\n",
    "    combustible del tanque 2: {tanque2}\n",
    "    combustible del tanque 3: {tanque3}\n",
    "    {promedio(tanque1, tanque2, tanque3)}\n",
    "    \"\"\"\n",
    "print(informe(80, 10, 30))"
   ]
  },
  {
   "cell_type": "markdown",
   "metadata": {},
   "source": [
    "# Ejercicio 2"
   ]
  },
  {
   "cell_type": "code",
   "execution_count": 96,
   "metadata": {},
   "outputs": [
    {
     "name": "stdout",
     "output_type": "stream",
     "text": [
      "\n",
      "    Mision a: Marte\n",
      "    Duracion del viaje: 131 minutos\n",
      "    Cantidad total de combustible: 2000 litros\n"
     ]
    }
   ],
   "source": [
    "def Informe_de_la_mision(destino, prelanzamiento, tiempo_de_vuelo, tanque_externo, tanque_interno ):\n",
    "    return f\"\"\"\n",
    "    Mision a: {destino}\n",
    "    Duracion del viaje: {prelanzamiento + tiempo_de_vuelo} minutos\n",
    "    Cantidad total de combustible: {tanque_externo+tanque_interno} litros\"\"\"\n",
    "print(Informe_de_la_mision('Marte', 32, 99, 1000, 1000))"
   ]
  },
  {
   "cell_type": "code",
   "execution_count": 97,
   "metadata": {},
   "outputs": [
    {
     "name": "stdout",
     "output_type": "stream",
     "text": [
      "\n",
      "    Mision a: Marte\n",
      "    Duracion del viaje: 131 minutos\n",
      "    Cantidad total de combustible: 4000 litros\n"
     ]
    }
   ],
   "source": [
    "def Informe_de_la_mision(destino,*minutos,**tanques_y_combustible ):\n",
    "    return f\"\"\"\n",
    "    Mision a: {destino}\n",
    "    Duracion del viaje: {sum(minutos)} minutos\n",
    "    Cantidad total de combustible: {sum(tanques_y_combustible.values())} litros\"\"\"\n",
    "print(Informe_de_la_mision('Marte', 32, 99, tanque_externo=2000, tanque_interno=2000))"
   ]
  },
  {
   "cell_type": "code",
   "execution_count": 98,
   "metadata": {},
   "outputs": [
    {
     "name": "stdout",
     "output_type": "stream",
     "text": [
      "\n",
      "    Mision a: Marte\n",
      "    Duracion del viaje: 131 minutos\n",
      "    Cantidad total de combustible: 4000 litros\n",
      "    -El tanque externo contiene: 2000 litros\n",
      "    -El tanque interno contiene: 2000 litros\n",
      "    \n"
     ]
    }
   ],
   "source": [
    "def Informe_de_la_mision(destino,*minutos,**tanques_y_combustible ):\n",
    "    reporte= f\"\"\"\n",
    "    Mision a: {destino}\n",
    "    Duracion del viaje: {sum(minutos)} minutos\n",
    "    Cantidad total de combustible: {sum(tanques_y_combustible.values())} litros\n",
    "    \"\"\"\n",
    "    for nombre, cantidad in tanques_y_combustible.items():\n",
    "        reporte+= f\"\"\"-El tanque {nombre} contiene: {cantidad} litros\n",
    "    \"\"\"\n",
    "    return reporte \n",
    "print(Informe_de_la_mision('Marte', 32, 99, externo=2000, interno=2000))"
   ]
  }
 ],
 "metadata": {
  "interpreter": {
   "hash": "b3f7bf394311b7fa6ea87f665e8bb72d7b488c317090ca846cb97eec17283667"
  },
  "kernelspec": {
   "display_name": "Python 3.10.2 64-bit",
   "language": "python",
   "name": "python3"
  },
  "language_info": {
   "codemirror_mode": {
    "name": "ipython",
    "version": 3
   },
   "file_extension": ".py",
   "mimetype": "text/x-python",
   "name": "python",
   "nbconvert_exporter": "python",
   "pygments_lexer": "ipython3",
   "version": "3.10.2"
  },
  "orig_nbformat": 4
 },
 "nbformat": 4,
 "nbformat_minor": 2
}
