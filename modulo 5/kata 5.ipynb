{
 "cells": [
  {
   "cell_type": "markdown",
   "metadata": {},
   "source": [
    "# Ejercicio 1"
   ]
  },
  {
   "cell_type": "code",
   "execution_count": 21,
   "metadata": {},
   "outputs": [],
   "source": [
    "Tierra=149597870\n",
    "Jupiter=778547200"
   ]
  },
  {
   "cell_type": "code",
   "execution_count": 28,
   "metadata": {},
   "outputs": [
    {
     "name": "stdout",
     "output_type": "stream",
     "text": [
      "La distancia entre ambos planeta es:  628949330 Km\n",
      "La distancia entre ambos planetas convertida en millas es:  390577534 millas\n"
     ]
    }
   ],
   "source": [
    "Distancia=Jupiter - Tierra\n",
    "print(\"La distancia entre ambos planetas es: \", Distancia, 'Km')\n",
    "print(\"La distancia entre ambos planetas convertida en millas es: \", round ( Distancia*0.621 ), 'millas')"
   ]
  },
  {
   "cell_type": "markdown",
   "metadata": {},
   "source": [
    "# Ejercicio 2"
   ]
  },
  {
   "cell_type": "code",
   "execution_count": 23,
   "metadata": {},
   "outputs": [],
   "source": [
    "distancia_1 = input('Introduzca la distancia del planeta al Sol en Km')\n",
    "distancia_2 = input('Introduzca la distancia del planeta al Sol en Km')"
   ]
  },
  {
   "cell_type": "code",
   "execution_count": 24,
   "metadata": {},
   "outputs": [],
   "source": [
    "distancia_1=int(distancia_1)\n",
    "distancia_2=int(distancia_2)"
   ]
  },
  {
   "cell_type": "code",
   "execution_count": 29,
   "metadata": {},
   "outputs": [
    {
     "name": "stdout",
     "output_type": "stream",
     "text": [
      "La distancia entre planetas es:  50300000 Km\n",
      "La distancia entre planetas en millas es:  60628.06655908597 millas\n"
     ]
    }
   ],
   "source": [
    "D_entre_planetas= distancia_1 - distancia_2\n",
    "print('La distancia entre planetas es: ', abs(D_entre_planetas), 'Km')\n",
    "D_en_millas= D_entre_planetas**0.621\n",
    "print('La distancia entre planetas en millas es: ', abs(D_en_millas), 'millas')\n"
   ]
  }
 ],
 "metadata": {
  "interpreter": {
   "hash": "b3f7bf394311b7fa6ea87f665e8bb72d7b488c317090ca846cb97eec17283667"
  },
  "kernelspec": {
   "display_name": "Python 3.10.2 64-bit",
   "language": "python",
   "name": "python3"
  },
  "language_info": {
   "codemirror_mode": {
    "name": "ipython",
    "version": 3
   },
   "file_extension": ".py",
   "mimetype": "text/x-python",
   "name": "python",
   "nbconvert_exporter": "python",
   "pygments_lexer": "ipython3",
   "version": "3.10.2"
  },
  "orig_nbformat": 4
 },
 "nbformat": 4,
 "nbformat_minor": 2
}
